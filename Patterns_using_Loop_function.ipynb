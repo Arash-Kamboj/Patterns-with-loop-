{
  "nbformat": 4,
  "nbformat_minor": 0,
  "metadata": {
    "colab": {
      "provenance": [],
      "authorship_tag": "ABX9TyNO1qYjMPI87/ut2A3JsHoV",
      "include_colab_link": true
    },
    "kernelspec": {
      "name": "python3",
      "display_name": "Python 3"
    },
    "language_info": {
      "name": "python"
    }
  },
  "cells": [
    {
      "cell_type": "markdown",
      "metadata": {
        "id": "view-in-github",
        "colab_type": "text"
      },
      "source": [
        "<a href=\"https://colab.research.google.com/github/Arash-Kamboj/Patterns-with-loop-/blob/main/Patterns_using_Loop_function.ipynb\" target=\"_parent\"><img src=\"https://colab.research.google.com/assets/colab-badge.svg\" alt=\"Open In Colab\"/></a>"
      ]
    },
    {
      "cell_type": "code",
      "execution_count": null,
      "metadata": {
        "colab": {
          "base_uri": "https://localhost:8080/"
        },
        "id": "WRo9ZdcJP4pz",
        "outputId": "f26c32d4-87ee-4fcd-b42b-b98ccc8539cd"
      },
      "outputs": [
        {
          "output_type": "stream",
          "name": "stdout",
          "text": [
            "* * * * \n",
            "* * * * \n",
            "* * * * \n",
            "* * * * \n"
          ]
        }
      ],
      "source": [
        "for i in range(4):\n",
        "  print(\"* \" * 4)"
      ]
    },
    {
      "cell_type": "code",
      "source": [
        "for i in range (10):\n",
        "   print(\"* \" * ((i)+1))\n"
      ],
      "metadata": {
        "colab": {
          "base_uri": "https://localhost:8080/"
        },
        "id": "3rSMTCyMRW8X",
        "outputId": "09076bb6-06d5-461c-c410-4b480435a52f"
      },
      "execution_count": null,
      "outputs": [
        {
          "output_type": "stream",
          "name": "stdout",
          "text": [
            "* \n",
            "* * \n",
            "* * * \n",
            "* * * * \n",
            "* * * * * \n",
            "* * * * * * \n",
            "* * * * * * * \n",
            "* * * * * * * * \n",
            "* * * * * * * * * \n",
            "* * * * * * * * * * \n"
          ]
        }
      ]
    },
    {
      "cell_type": "code",
      "source": [
        "for i in range (5):\n",
        "   print(\"* \" * (2*(4-i)+1))"
      ],
      "metadata": {
        "colab": {
          "base_uri": "https://localhost:8080/"
        },
        "id": "dDYurB04Ukoj",
        "outputId": "45e04302-8447-4782-9e96-8f84095c7db7"
      },
      "execution_count": null,
      "outputs": [
        {
          "output_type": "stream",
          "name": "stdout",
          "text": [
            "* * * * * * * * * \n",
            "* * * * * * * \n",
            "* * * * * \n",
            "* * * \n",
            "* \n"
          ]
        }
      ]
    },
    {
      "cell_type": "code",
      "source": [
        "n=25\n",
        "\n",
        "for i in range (n):\n",
        "   print(\" \" * (2*i),end=\"\")\n",
        "   print(\"* \" * (((n-1-i)*2)+1))\n"
      ],
      "metadata": {
        "colab": {
          "base_uri": "https://localhost:8080/"
        },
        "id": "rpADJ0LDdQ9l",
        "outputId": "e55dd670-583b-4d45-eaa2-ab5c995fc49b"
      },
      "execution_count": 1,
      "outputs": [
        {
          "output_type": "stream",
          "name": "stdout",
          "text": [
            "* * * * * * * * * * * * * * * * * * * * * * * * * * * * * * * * * * * * * * * * * * * * * * * * * \n",
            "  * * * * * * * * * * * * * * * * * * * * * * * * * * * * * * * * * * * * * * * * * * * * * * * \n",
            "    * * * * * * * * * * * * * * * * * * * * * * * * * * * * * * * * * * * * * * * * * * * * * \n",
            "      * * * * * * * * * * * * * * * * * * * * * * * * * * * * * * * * * * * * * * * * * * * \n",
            "        * * * * * * * * * * * * * * * * * * * * * * * * * * * * * * * * * * * * * * * * * \n",
            "          * * * * * * * * * * * * * * * * * * * * * * * * * * * * * * * * * * * * * * * \n",
            "            * * * * * * * * * * * * * * * * * * * * * * * * * * * * * * * * * * * * * \n",
            "              * * * * * * * * * * * * * * * * * * * * * * * * * * * * * * * * * * * \n",
            "                * * * * * * * * * * * * * * * * * * * * * * * * * * * * * * * * * \n",
            "                  * * * * * * * * * * * * * * * * * * * * * * * * * * * * * * * \n",
            "                    * * * * * * * * * * * * * * * * * * * * * * * * * * * * * \n",
            "                      * * * * * * * * * * * * * * * * * * * * * * * * * * * \n",
            "                        * * * * * * * * * * * * * * * * * * * * * * * * * \n",
            "                          * * * * * * * * * * * * * * * * * * * * * * * \n",
            "                            * * * * * * * * * * * * * * * * * * * * * \n",
            "                              * * * * * * * * * * * * * * * * * * * \n",
            "                                * * * * * * * * * * * * * * * * * \n",
            "                                  * * * * * * * * * * * * * * * \n",
            "                                    * * * * * * * * * * * * * \n",
            "                                      * * * * * * * * * * * \n",
            "                                        * * * * * * * * * \n",
            "                                          * * * * * * * \n",
            "                                            * * * * * \n",
            "                                              * * * \n",
            "                                                * \n"
          ]
        }
      ]
    },
    {
      "cell_type": "code",
      "source": [
        "for i in range (4):\n",
        "   print(\" \" * (2*(3-i)),\"* \" *(i+1))"
      ],
      "metadata": {
        "colab": {
          "base_uri": "https://localhost:8080/"
        },
        "id": "IORE4wl7XDP0",
        "outputId": "78c587f4-b787-4581-b028-883ad0ee407c"
      },
      "execution_count": null,
      "outputs": [
        {
          "output_type": "stream",
          "name": "stdout",
          "text": [
            "       * \n",
            "     * * \n",
            "   * * * \n",
            " * * * * \n"
          ]
        }
      ]
    },
    {
      "cell_type": "code",
      "source": [
        "for i in range (4):\n",
        "   print(\" \" * (2*(3-i)),end=\"\")\n",
        "   print(\"* \" * ((2*i)+1))"
      ],
      "metadata": {
        "colab": {
          "base_uri": "https://localhost:8080/"
        },
        "id": "YwkJ-vY-aP2S",
        "outputId": "4cc5ccc1-232e-4c5c-d56c-615a42f93e1e"
      },
      "execution_count": null,
      "outputs": [
        {
          "output_type": "stream",
          "name": "stdout",
          "text": [
            "      * \n",
            "    * * * \n",
            "  * * * * * \n",
            "* * * * * * * \n"
          ]
        }
      ]
    },
    {
      "cell_type": "code",
      "source": [],
      "metadata": {
        "id": "muOcL4bWuzkb"
      },
      "execution_count": null,
      "outputs": []
    }
  ]
}